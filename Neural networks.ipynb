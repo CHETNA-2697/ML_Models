{
 "cells": [
  {
   "cell_type": "markdown",
   "id": "5313ef05-f3d9-4453-b634-cba4a8ea9a20",
   "metadata": {},
   "source": [
    "#### Assignment 3: Neural Networks  \r\n",
    "##### Group 1  \r\n",
    "###### 1. Chetna Manchanda: 100943852  \r\n",
    "###### 2. Rounak Virmani: 100911456  \r\n",
    "###### 3. Kandarp Joshi: 100943058  \r\n",
    "###### 4. Grifith Pradeep Pereira: 1009\r\n",
    "###### 4. Kaizaan Keshwani: 100930806  \r\n",
    "###### 4. Marium memon: 10098503  4"
   ]
  },
  {
   "cell_type": "markdown",
   "id": "56ddbd75-5164-433e-a346-d9682465546a",
   "metadata": {},
   "source": [
    "#### In this analysis, we aim to build a Neural Network model using the 'drugdataset.csv' provided by John Hughes using patient attributes such as age, sex, blood pressure, cholesterol levels, and sodium-to-potassium ratio.\n",
    "#### The primary objective is to evaluate the performance of the Neural Network in terms of accuracy, precision, recall, and F1-score, and compare it against a previously developed Logistic Regression model."
   ]
  },
  {
   "cell_type": "code",
   "execution_count": 3,
   "id": "10b834af-38a7-4fbf-814c-dca0832b9b64",
   "metadata": {},
   "outputs": [],
   "source": [
    "# Import necessary libraries\n",
    "import pandas as pd\n",
    "import numpy as np\n",
    "import matplotlib.pyplot as plt\n",
    "%matplotlib inline"
   ]
  },
  {
   "cell_type": "code",
   "execution_count": 4,
   "id": "1ff467f9-bc9c-405a-9f71-7cb8dc9e7019",
   "metadata": {},
   "outputs": [
    {
     "data": {
      "text/html": [
       "<div>\n",
       "<style scoped>\n",
       "    .dataframe tbody tr th:only-of-type {\n",
       "        vertical-align: middle;\n",
       "    }\n",
       "\n",
       "    .dataframe tbody tr th {\n",
       "        vertical-align: top;\n",
       "    }\n",
       "\n",
       "    .dataframe thead th {\n",
       "        text-align: right;\n",
       "    }\n",
       "</style>\n",
       "<table border=\"1\" class=\"dataframe\">\n",
       "  <thead>\n",
       "    <tr style=\"text-align: right;\">\n",
       "      <th></th>\n",
       "      <th>Age</th>\n",
       "      <th>Sex</th>\n",
       "      <th>BP</th>\n",
       "      <th>Cholesterol</th>\n",
       "      <th>Na_to_K</th>\n",
       "      <th>Drug</th>\n",
       "    </tr>\n",
       "  </thead>\n",
       "  <tbody>\n",
       "    <tr>\n",
       "      <th>0</th>\n",
       "      <td>23</td>\n",
       "      <td>1</td>\n",
       "      <td>2</td>\n",
       "      <td>1</td>\n",
       "      <td>25.355</td>\n",
       "      <td>drugY</td>\n",
       "    </tr>\n",
       "    <tr>\n",
       "      <th>1</th>\n",
       "      <td>47</td>\n",
       "      <td>0</td>\n",
       "      <td>1</td>\n",
       "      <td>1</td>\n",
       "      <td>13.093</td>\n",
       "      <td>drugC</td>\n",
       "    </tr>\n",
       "    <tr>\n",
       "      <th>2</th>\n",
       "      <td>47</td>\n",
       "      <td>0</td>\n",
       "      <td>1</td>\n",
       "      <td>1</td>\n",
       "      <td>10.114</td>\n",
       "      <td>drugC</td>\n",
       "    </tr>\n",
       "    <tr>\n",
       "      <th>3</th>\n",
       "      <td>28</td>\n",
       "      <td>1</td>\n",
       "      <td>0</td>\n",
       "      <td>1</td>\n",
       "      <td>7.798</td>\n",
       "      <td>drugX</td>\n",
       "    </tr>\n",
       "    <tr>\n",
       "      <th>4</th>\n",
       "      <td>61</td>\n",
       "      <td>1</td>\n",
       "      <td>1</td>\n",
       "      <td>1</td>\n",
       "      <td>18.043</td>\n",
       "      <td>drugY</td>\n",
       "    </tr>\n",
       "  </tbody>\n",
       "</table>\n",
       "</div>"
      ],
      "text/plain": [
       "   Age  Sex  BP  Cholesterol  Na_to_K   Drug\n",
       "0   23    1   2            1   25.355  drugY\n",
       "1   47    0   1            1   13.093  drugC\n",
       "2   47    0   1            1   10.114  drugC\n",
       "3   28    1   0            1    7.798  drugX\n",
       "4   61    1   1            1   18.043  drugY"
      ]
     },
     "execution_count": 4,
     "metadata": {},
     "output_type": "execute_result"
    }
   ],
   "source": [
    "# Load the dataset\n",
    "drugData = pd.read_csv('drugdataset.csv')\n",
    "\n",
    "#Display 5 rows of Data\n",
    "drugData.head()\n"
   ]
  },
  {
   "cell_type": "code",
   "execution_count": 5,
   "id": "6339d0ba-3dea-4b72-811a-afe26d36b2df",
   "metadata": {},
   "outputs": [
    {
     "data": {
      "text/html": [
       "<div>\n",
       "<style scoped>\n",
       "    .dataframe tbody tr th:only-of-type {\n",
       "        vertical-align: middle;\n",
       "    }\n",
       "\n",
       "    .dataframe tbody tr th {\n",
       "        vertical-align: top;\n",
       "    }\n",
       "\n",
       "    .dataframe thead th {\n",
       "        text-align: right;\n",
       "    }\n",
       "</style>\n",
       "<table border=\"1\" class=\"dataframe\">\n",
       "  <thead>\n",
       "    <tr style=\"text-align: right;\">\n",
       "      <th></th>\n",
       "      <th>count</th>\n",
       "      <th>mean</th>\n",
       "      <th>std</th>\n",
       "      <th>min</th>\n",
       "      <th>25%</th>\n",
       "      <th>50%</th>\n",
       "      <th>75%</th>\n",
       "      <th>max</th>\n",
       "    </tr>\n",
       "  </thead>\n",
       "  <tbody>\n",
       "    <tr>\n",
       "      <th>Age</th>\n",
       "      <td>200.0</td>\n",
       "      <td>44.315000</td>\n",
       "      <td>16.544315</td>\n",
       "      <td>15.000</td>\n",
       "      <td>31.0000</td>\n",
       "      <td>45.0000</td>\n",
       "      <td>58.00</td>\n",
       "      <td>74.000</td>\n",
       "    </tr>\n",
       "    <tr>\n",
       "      <th>Sex</th>\n",
       "      <td>200.0</td>\n",
       "      <td>0.480000</td>\n",
       "      <td>0.500854</td>\n",
       "      <td>0.000</td>\n",
       "      <td>0.0000</td>\n",
       "      <td>0.0000</td>\n",
       "      <td>1.00</td>\n",
       "      <td>1.000</td>\n",
       "    </tr>\n",
       "    <tr>\n",
       "      <th>BP</th>\n",
       "      <td>200.0</td>\n",
       "      <td>1.090000</td>\n",
       "      <td>0.821752</td>\n",
       "      <td>0.000</td>\n",
       "      <td>0.0000</td>\n",
       "      <td>1.0000</td>\n",
       "      <td>2.00</td>\n",
       "      <td>2.000</td>\n",
       "    </tr>\n",
       "    <tr>\n",
       "      <th>Cholesterol</th>\n",
       "      <td>200.0</td>\n",
       "      <td>0.515000</td>\n",
       "      <td>0.501029</td>\n",
       "      <td>0.000</td>\n",
       "      <td>0.0000</td>\n",
       "      <td>1.0000</td>\n",
       "      <td>1.00</td>\n",
       "      <td>1.000</td>\n",
       "    </tr>\n",
       "    <tr>\n",
       "      <th>Na_to_K</th>\n",
       "      <td>200.0</td>\n",
       "      <td>16.084485</td>\n",
       "      <td>7.223956</td>\n",
       "      <td>6.269</td>\n",
       "      <td>10.4455</td>\n",
       "      <td>13.9365</td>\n",
       "      <td>19.38</td>\n",
       "      <td>38.247</td>\n",
       "    </tr>\n",
       "  </tbody>\n",
       "</table>\n",
       "</div>"
      ],
      "text/plain": [
       "             count       mean        std     min      25%      50%    75%  \\\n",
       "Age          200.0  44.315000  16.544315  15.000  31.0000  45.0000  58.00   \n",
       "Sex          200.0   0.480000   0.500854   0.000   0.0000   0.0000   1.00   \n",
       "BP           200.0   1.090000   0.821752   0.000   0.0000   1.0000   2.00   \n",
       "Cholesterol  200.0   0.515000   0.501029   0.000   0.0000   1.0000   1.00   \n",
       "Na_to_K      200.0  16.084485   7.223956   6.269  10.4455  13.9365  19.38   \n",
       "\n",
       "                max  \n",
       "Age          74.000  \n",
       "Sex           1.000  \n",
       "BP            2.000  \n",
       "Cholesterol   1.000  \n",
       "Na_to_K      38.247  "
      ]
     },
     "execution_count": 5,
     "metadata": {},
     "output_type": "execute_result"
    }
   ],
   "source": [
    "#Generate key statistics using: describe()\n",
    "drugData.describe().T"
   ]
  },
  {
   "cell_type": "code",
   "execution_count": 6,
   "id": "d3996da2-c4d1-44d6-a0c6-aa7c06308d76",
   "metadata": {},
   "outputs": [
    {
     "data": {
      "text/plain": [
       "array(['drugY', 'drugC', 'drugX', 'drugA', 'drugB'], dtype=object)"
      ]
     },
     "execution_count": 6,
     "metadata": {},
     "output_type": "execute_result"
    }
   ],
   "source": [
    "#Identify number of Classes (i.e. drugs)\n",
    "drugData.Drug.unique()"
   ]
  },
  {
   "cell_type": "code",
   "execution_count": 7,
   "id": "3e93b2e2-fdc5-4d1e-a63f-4cb92432acef",
   "metadata": {},
   "outputs": [],
   "source": [
    "# create x and y variables\n",
    "X = drugData.drop('Drug', axis=1).to_numpy() # Drop 'Drug' column and convert remaining data to a NumPy array.\n",
    "y = drugData['Drug'].to_numpy() # Convert 'Drug' column to a NumPy array as target labels."
   ]
  },
  {
   "cell_type": "code",
   "execution_count": 8,
   "id": "9442d050-a535-426c-833b-8d3267d74624",
   "metadata": {},
   "outputs": [],
   "source": [
    "# Create Train and Test datasets\n",
    "from sklearn.model_selection import train_test_split\n",
    "X_train, X_test, y_train, y_test = train_test_split(\n",
    "    X, y, stratify=y, test_size=0.20, random_state=100\n",
    ")\n",
    "# Scale the data\n",
    "from sklearn.preprocessing import StandardScaler\n",
    "sc = StandardScaler()\n",
    "x_train2 = sc.fit_transform(X_train)\n",
    "x_test2 = sc.transform(X_test)"
   ]
  },
  {
   "cell_type": "code",
   "execution_count": 9,
   "id": "3c677ab3-230f-4307-b4a9-3abd9d58bf1f",
   "metadata": {},
   "outputs": [],
   "source": [
    "# Script for Neural Network\n",
    "from sklearn.neural_network import MLPClassifier\n",
    "mlp = MLPClassifier(\n",
    "    hidden_layer_sizes=(5, 4, 5), \n",
    "    activation='relu', \n",
    "    solver='adam', \n",
    "    max_iter=10000, \n",
    "    random_state=100\n",
    ")\n",
    "mlp.fit(x_train2, y_train)\n",
    "predictions = mlp.predict(x_test2)"
   ]
  },
  {
   "cell_type": "code",
   "execution_count": 10,
   "id": "0a53519d-2495-4130-9830-e20ab5dc3dd5",
   "metadata": {},
   "outputs": [
    {
     "name": "stdout",
     "output_type": "stream",
     "text": [
      "[[ 5  0  0  0  0]\n",
      " [ 0  2  0  0  1]\n",
      " [ 0  0  3  0  0]\n",
      " [ 0  0  0 11  0]\n",
      " [ 0  0  0  1 17]]\n",
      "              precision    recall  f1-score   support\n",
      "\n",
      "       drugY       1.00      1.00      1.00         5\n",
      "       drugC       1.00      0.67      0.80         3\n",
      "       drugX       1.00      1.00      1.00         3\n",
      "       drugA       0.92      1.00      0.96        11\n",
      "       drugB       0.94      0.94      0.94        18\n",
      "\n",
      "    accuracy                           0.95        40\n",
      "   macro avg       0.97      0.92      0.94        40\n",
      "weighted avg       0.95      0.95      0.95        40\n",
      "\n"
     ]
    }
   ],
   "source": [
    "# Evaluation Report and Matrix\n",
    "from sklearn.metrics import classification_report, confusion_matrix\n",
    "# Define target names\n",
    "target_names = drugData['Drug'].unique()\n",
    "print(confusion_matrix(y_test, predictions))\n",
    "print(classification_report(y_test, predictions, target_names=target_names))"
   ]
  }
 ],
 "metadata": {
  "kernelspec": {
   "display_name": "Python 3 (ipykernel)",
   "language": "python",
   "name": "python3"
  },
  "language_info": {
   "codemirror_mode": {
    "name": "ipython",
    "version": 3
   },
   "file_extension": ".py",
   "mimetype": "text/x-python",
   "name": "python",
   "nbconvert_exporter": "python",
   "pygments_lexer": "ipython3",
   "version": "3.11.7"
  }
 },
 "nbformat": 4,
 "nbformat_minor": 5
}
