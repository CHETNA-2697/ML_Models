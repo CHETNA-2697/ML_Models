{
 "cells": [
  {
   "cell_type": "markdown",
   "id": "def081ed-bdf7-46b1-8bd9-cf99347fe165",
   "metadata": {},
   "source": [
    "Primarily Analysis"
   ]
  },
  {
   "cell_type": "markdown",
   "id": "5f8342d0-3ce5-40c6-85ea-fc3dc57e0586",
   "metadata": {},
   "source": [
    "#### In this analysis, we will be examining an 'absenteeism' dataset  to understand key statistics related to the variables provided. The dataset includes several independent variables such as weight, height, social smoking & drinking, and BMI, with the dependent variable being the number of days absent from work. \r\n",
    "\r\n",
    "#### The goal of this preliminary analysis is to provide a basic understanding of the data by calculangve statistics and removing irrelevant varia:se ID, to focus on meaningful insights."
   ]
  },
  {
   "cell_type": "code",
   "execution_count": 1,
   "id": "92f217e2-6e53-42da-a831-13859a34e128",
   "metadata": {},
   "outputs": [],
   "source": [
    "#Import Libraries\n",
    "import pandas as pd"
   ]
  },
  {
   "cell_type": "code",
   "execution_count": 2,
   "id": "e5d63738-fb7d-42ed-addc-373b7cc6a757",
   "metadata": {},
   "outputs": [],
   "source": [
    "#Load the Dataset\n",
    "absent =  pd.read_csv(\"Absenteeism.csv\")"
   ]
  },
  {
   "cell_type": "code",
   "execution_count": 3,
   "id": "3bbdddab-c234-48ee-b482-369a898c797e",
   "metadata": {},
   "outputs": [
    {
     "data": {
      "text/html": [
       "<div>\n",
       "<style scoped>\n",
       "    .dataframe tbody tr th:only-of-type {\n",
       "        vertical-align: middle;\n",
       "    }\n",
       "\n",
       "    .dataframe tbody tr th {\n",
       "        vertical-align: top;\n",
       "    }\n",
       "\n",
       "    .dataframe thead th {\n",
       "        text-align: right;\n",
       "    }\n",
       "</style>\n",
       "<table border=\"1\" class=\"dataframe\">\n",
       "  <thead>\n",
       "    <tr style=\"text-align: right;\">\n",
       "      <th></th>\n",
       "      <th>ID</th>\n",
       "      <th>Social drinker</th>\n",
       "      <th>Social smoker</th>\n",
       "      <th>Pet</th>\n",
       "      <th>Weight</th>\n",
       "      <th>Height</th>\n",
       "      <th>BMI</th>\n",
       "      <th>Absenteeism</th>\n",
       "    </tr>\n",
       "  </thead>\n",
       "  <tbody>\n",
       "    <tr>\n",
       "      <th>0</th>\n",
       "      <td>11</td>\n",
       "      <td>1</td>\n",
       "      <td>0</td>\n",
       "      <td>1</td>\n",
       "      <td>90</td>\n",
       "      <td>172</td>\n",
       "      <td>30</td>\n",
       "      <td>4</td>\n",
       "    </tr>\n",
       "    <tr>\n",
       "      <th>1</th>\n",
       "      <td>36</td>\n",
       "      <td>1</td>\n",
       "      <td>0</td>\n",
       "      <td>0</td>\n",
       "      <td>98</td>\n",
       "      <td>178</td>\n",
       "      <td>31</td>\n",
       "      <td>0</td>\n",
       "    </tr>\n",
       "    <tr>\n",
       "      <th>2</th>\n",
       "      <td>3</td>\n",
       "      <td>1</td>\n",
       "      <td>0</td>\n",
       "      <td>0</td>\n",
       "      <td>89</td>\n",
       "      <td>170</td>\n",
       "      <td>31</td>\n",
       "      <td>2</td>\n",
       "    </tr>\n",
       "    <tr>\n",
       "      <th>3</th>\n",
       "      <td>7</td>\n",
       "      <td>1</td>\n",
       "      <td>1</td>\n",
       "      <td>0</td>\n",
       "      <td>68</td>\n",
       "      <td>168</td>\n",
       "      <td>24</td>\n",
       "      <td>4</td>\n",
       "    </tr>\n",
       "    <tr>\n",
       "      <th>4</th>\n",
       "      <td>11</td>\n",
       "      <td>1</td>\n",
       "      <td>0</td>\n",
       "      <td>1</td>\n",
       "      <td>90</td>\n",
       "      <td>172</td>\n",
       "      <td>30</td>\n",
       "      <td>2</td>\n",
       "    </tr>\n",
       "  </tbody>\n",
       "</table>\n",
       "</div>"
      ],
      "text/plain": [
       "   ID  Social drinker  Social smoker  Pet  Weight  Height  BMI  Absenteeism\n",
       "0  11               1              0    1      90     172   30            4\n",
       "1  36               1              0    0      98     178   31            0\n",
       "2   3               1              0    0      89     170   31            2\n",
       "3   7               1              1    0      68     168   24            4\n",
       "4  11               1              0    1      90     172   30            2"
      ]
     },
     "execution_count": 3,
     "metadata": {},
     "output_type": "execute_result"
    }
   ],
   "source": [
    "#Display first 5 rows of data\n",
    "absent.head()"
   ]
  },
  {
   "cell_type": "code",
   "execution_count": 4,
   "id": "56067343-9d3b-4f1a-afa3-fceb1afd19a2",
   "metadata": {},
   "outputs": [
    {
     "name": "stdout",
     "output_type": "stream",
     "text": [
      "<class 'pandas.core.frame.DataFrame'>\n",
      "RangeIndex: 740 entries, 0 to 739\n",
      "Data columns (total 8 columns):\n",
      " #   Column          Non-Null Count  Dtype\n",
      "---  ------          --------------  -----\n",
      " 0   ID              740 non-null    int64\n",
      " 1   Social drinker  740 non-null    int64\n",
      " 2   Social smoker   740 non-null    int64\n",
      " 3   Pet             740 non-null    int64\n",
      " 4   Weight          740 non-null    int64\n",
      " 5   Height          740 non-null    int64\n",
      " 6   BMI             740 non-null    int64\n",
      " 7   Absenteeism     740 non-null    int64\n",
      "dtypes: int64(8)\n",
      "memory usage: 46.4 KB\n"
     ]
    }
   ],
   "source": [
    "#Display data summary\n",
    "absent.info()"
   ]
  },
  {
   "cell_type": "code",
   "execution_count": 5,
   "id": "d8a6e985-ec56-4131-9329-8087123f5100",
   "metadata": {},
   "outputs": [],
   "source": [
    "#Drop column 'ID'\n",
    "absent = absent.drop('ID', axis = 1)"
   ]
  },
  {
   "cell_type": "code",
   "execution_count": 6,
   "id": "6b6c8a5d-20c8-48c2-a94a-575071aaa862",
   "metadata": {},
   "outputs": [
    {
     "name": "stdout",
     "output_type": "stream",
     "text": [
      "<class 'pandas.core.frame.DataFrame'>\n",
      "RangeIndex: 740 entries, 0 to 739\n",
      "Data columns (total 7 columns):\n",
      " #   Column          Non-Null Count  Dtype\n",
      "---  ------          --------------  -----\n",
      " 0   Social drinker  740 non-null    int64\n",
      " 1   Social smoker   740 non-null    int64\n",
      " 2   Pet             740 non-null    int64\n",
      " 3   Weight          740 non-null    int64\n",
      " 4   Height          740 non-null    int64\n",
      " 5   BMI             740 non-null    int64\n",
      " 6   Absenteeism     740 non-null    int64\n",
      "dtypes: int64(7)\n",
      "memory usage: 40.6 KB\n"
     ]
    }
   ],
   "source": [
    "#Display data summary (without ID column)\n",
    "absent.info()"
   ]
  },
  {
   "cell_type": "code",
   "execution_count": 12,
   "id": "149db9ad-3597-461d-b117-4304d54f92cf",
   "metadata": {},
   "outputs": [],
   "source": [
    "#Generate key statistics using: describe()\n",
    "absenteeism= absent.describe().T"
   ]
  },
  {
   "cell_type": "code",
   "execution_count": 13,
   "id": "fa5612af-7634-458d-a3ff-d997e48a802d",
   "metadata": {},
   "outputs": [
    {
     "data": {
      "text/html": [
       "<div>\n",
       "<style scoped>\n",
       "    .dataframe tbody tr th:only-of-type {\n",
       "        vertical-align: middle;\n",
       "    }\n",
       "\n",
       "    .dataframe tbody tr th {\n",
       "        vertical-align: top;\n",
       "    }\n",
       "\n",
       "    .dataframe thead th {\n",
       "        text-align: right;\n",
       "    }\n",
       "</style>\n",
       "<table border=\"1\" class=\"dataframe\">\n",
       "  <thead>\n",
       "    <tr style=\"text-align: right;\">\n",
       "      <th></th>\n",
       "      <th>count</th>\n",
       "      <th>mean</th>\n",
       "      <th>std</th>\n",
       "      <th>min</th>\n",
       "      <th>25%</th>\n",
       "      <th>50%</th>\n",
       "      <th>75%</th>\n",
       "      <th>max</th>\n",
       "    </tr>\n",
       "  </thead>\n",
       "  <tbody>\n",
       "    <tr>\n",
       "      <th>Social drinker</th>\n",
       "      <td>740.0</td>\n",
       "      <td>0.567568</td>\n",
       "      <td>0.495749</td>\n",
       "      <td>0.0</td>\n",
       "      <td>0.0</td>\n",
       "      <td>1.0</td>\n",
       "      <td>1.0</td>\n",
       "      <td>1.0</td>\n",
       "    </tr>\n",
       "    <tr>\n",
       "      <th>Social smoker</th>\n",
       "      <td>740.0</td>\n",
       "      <td>0.072973</td>\n",
       "      <td>0.260268</td>\n",
       "      <td>0.0</td>\n",
       "      <td>0.0</td>\n",
       "      <td>0.0</td>\n",
       "      <td>0.0</td>\n",
       "      <td>1.0</td>\n",
       "    </tr>\n",
       "    <tr>\n",
       "      <th>Pet</th>\n",
       "      <td>740.0</td>\n",
       "      <td>0.745946</td>\n",
       "      <td>1.318258</td>\n",
       "      <td>0.0</td>\n",
       "      <td>0.0</td>\n",
       "      <td>0.0</td>\n",
       "      <td>1.0</td>\n",
       "      <td>8.0</td>\n",
       "    </tr>\n",
       "    <tr>\n",
       "      <th>Weight</th>\n",
       "      <td>740.0</td>\n",
       "      <td>79.035135</td>\n",
       "      <td>12.883211</td>\n",
       "      <td>56.0</td>\n",
       "      <td>69.0</td>\n",
       "      <td>83.0</td>\n",
       "      <td>89.0</td>\n",
       "      <td>108.0</td>\n",
       "    </tr>\n",
       "    <tr>\n",
       "      <th>Height</th>\n",
       "      <td>740.0</td>\n",
       "      <td>172.114865</td>\n",
       "      <td>6.034995</td>\n",
       "      <td>163.0</td>\n",
       "      <td>169.0</td>\n",
       "      <td>170.0</td>\n",
       "      <td>172.0</td>\n",
       "      <td>196.0</td>\n",
       "    </tr>\n",
       "    <tr>\n",
       "      <th>BMI</th>\n",
       "      <td>740.0</td>\n",
       "      <td>26.677027</td>\n",
       "      <td>4.285452</td>\n",
       "      <td>19.0</td>\n",
       "      <td>24.0</td>\n",
       "      <td>25.0</td>\n",
       "      <td>31.0</td>\n",
       "      <td>38.0</td>\n",
       "    </tr>\n",
       "    <tr>\n",
       "      <th>Absenteeism</th>\n",
       "      <td>740.0</td>\n",
       "      <td>6.924324</td>\n",
       "      <td>13.330998</td>\n",
       "      <td>0.0</td>\n",
       "      <td>2.0</td>\n",
       "      <td>3.0</td>\n",
       "      <td>8.0</td>\n",
       "      <td>120.0</td>\n",
       "    </tr>\n",
       "  </tbody>\n",
       "</table>\n",
       "</div>"
      ],
      "text/plain": [
       "                count        mean        std    min    25%    50%    75%  \\\n",
       "Social drinker  740.0    0.567568   0.495749    0.0    0.0    1.0    1.0   \n",
       "Social smoker   740.0    0.072973   0.260268    0.0    0.0    0.0    0.0   \n",
       "Pet             740.0    0.745946   1.318258    0.0    0.0    0.0    1.0   \n",
       "Weight          740.0   79.035135  12.883211   56.0   69.0   83.0   89.0   \n",
       "Height          740.0  172.114865   6.034995  163.0  169.0  170.0  172.0   \n",
       "BMI             740.0   26.677027   4.285452   19.0   24.0   25.0   31.0   \n",
       "Absenteeism     740.0    6.924324  13.330998    0.0    2.0    3.0    8.0   \n",
       "\n",
       "                  max  \n",
       "Social drinker    1.0  \n",
       "Social smoker     1.0  \n",
       "Pet               8.0  \n",
       "Weight          108.0  \n",
       "Height          196.0  \n",
       "BMI              38.0  \n",
       "Absenteeism     120.0  "
      ]
     },
     "execution_count": 13,
     "metadata": {},
     "output_type": "execute_result"
    }
   ],
   "source": [
    "absenteeism"
   ]
  }
 ],
 "metadata": {
  "kernelspec": {
   "display_name": "Python 3 (ipykernel)",
   "language": "python",
   "name": "python3"
  },
  "language_info": {
   "codemirror_mode": {
    "name": "ipython",
    "version": 3
   },
   "file_extension": ".py",
   "mimetype": "text/x-python",
   "name": "python",
   "nbconvert_exporter": "python",
   "pygments_lexer": "ipython3",
   "version": "3.11.7"
  }
 },
 "nbformat": 4,
 "nbformat_minor": 5
}
